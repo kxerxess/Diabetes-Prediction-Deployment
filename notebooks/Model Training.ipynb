{
 "cells": [
  {
   "cell_type": "markdown",
   "metadata": {},
   "source": [
    "## Importing libraries"
   ]
  },
  {
   "cell_type": "code",
   "execution_count": 1,
   "metadata": {},
   "outputs": [
    {
     "name": "stdout",
     "output_type": "stream",
     "text": [
      "2.3.0\n",
      "2.4.0\n"
     ]
    }
   ],
   "source": [
    "# Standard Libraries\n",
    "import pandas as pd\n",
    "import numpy as np\n",
    "import matplotlib.pyplot as plt\n",
    "import random\n",
    "\n",
    "# Data Pre-Processing\n",
    "from sklearn.preprocessing import MinMaxScaler\n",
    "from sklearn.preprocessing import StandardScaler\n",
    "from sklearn.model_selection import train_test_split as tts\n",
    "\n",
    "# Machine learning\n",
    "import tensorflow as tf\n",
    "import keras\n",
    "from tensorflow.keras import layers\n",
    "from tensorflow.keras import models\n",
    "from tensorflow.keras import utils\n",
    "from tensorflow.keras.layers import Dense\n",
    "from tensorflow.keras.models import Sequential\n",
    "from tensorflow.keras.layers import Flatten\n",
    "from tensorflow.keras.layers import Dropout\n",
    "from tensorflow.keras.layers import Activation\n",
    "from tensorflow.keras.regularizers import l2\n",
    "from tensorflow.keras.optimizers import SGD\n",
    "from tensorflow.keras.optimizers import RMSprop\n",
    "from tensorflow.keras.optimizers import Adam\n",
    "\n",
    "from sklearn.neural_network import MLPClassifier\n",
    "from sklearn.model_selection import cross_val_score\n",
    "from sklearn.model_selection import KFold\n",
    "from sklearn.model_selection import cross_val_predict\n",
    "\n",
    "from tensorflow.keras.callbacks import LearningRateScheduler\n",
    "from tensorflow.keras.callbacks import History\n",
    "from sklearn.model_selection import GridSearchCV\n",
    "from keras.wrappers.scikit_learn import KerasClassifier\n",
    "\n",
    "from tensorflow.keras import losses\n",
    "from sklearn.utils import shuffle\n",
    "from sklearn.metrics import classification_report\n",
    "from sklearn.metrics import accuracy_score\n",
    "from sklearn.metrics import confusion_matrix\n",
    "\n",
    "from sklearn.model_selection import GridSearchCV\n",
    "from keras.wrappers.scikit_learn import KerasClassifier\n",
    "\n",
    "print(tf.__version__)\n",
    "print(tf.keras.__version__)\n",
    "np.random.seed(5)"
   ]
  },
  {
   "cell_type": "markdown",
   "metadata": {},
   "source": [
    "### Importing the dataset"
   ]
  },
  {
   "cell_type": "code",
   "execution_count": 3,
   "metadata": {},
   "outputs": [
    {
     "data": {
      "text/html": [
       "<div>\n",
       "<style scoped>\n",
       "    .dataframe tbody tr th:only-of-type {\n",
       "        vertical-align: middle;\n",
       "    }\n",
       "\n",
       "    .dataframe tbody tr th {\n",
       "        vertical-align: top;\n",
       "    }\n",
       "\n",
       "    .dataframe thead th {\n",
       "        text-align: right;\n",
       "    }\n",
       "</style>\n",
       "<table border=\"1\" class=\"dataframe\">\n",
       "  <thead>\n",
       "    <tr style=\"text-align: right;\">\n",
       "      <th></th>\n",
       "      <th>PCA_0</th>\n",
       "      <th>PCA_1</th>\n",
       "      <th>PCA_2</th>\n",
       "      <th>PCA_3</th>\n",
       "      <th>PCA_4</th>\n",
       "      <th>PCA_5</th>\n",
       "      <th>PCA_6</th>\n",
       "      <th>PCA_7</th>\n",
       "      <th>PCA_8</th>\n",
       "      <th>PCA_9</th>\n",
       "      <th>...</th>\n",
       "      <th>Gen_GvI_2</th>\n",
       "      <th>Gen_GvA_3</th>\n",
       "      <th>Gen_BMI_4</th>\n",
       "      <th>Gen_BvP_5</th>\n",
       "      <th>Gen_AvP_6</th>\n",
       "      <th>Gen_GvB_7</th>\n",
       "      <th>Gen_BvS_8</th>\n",
       "      <th>Gen_BP_9</th>\n",
       "      <th>Gen_t1_10</th>\n",
       "      <th>Outcome</th>\n",
       "    </tr>\n",
       "  </thead>\n",
       "  <tbody>\n",
       "    <tr>\n",
       "      <th>0</th>\n",
       "      <td>2.490674</td>\n",
       "      <td>0.490065</td>\n",
       "      <td>-0.012325</td>\n",
       "      <td>1.154325</td>\n",
       "      <td>0.018495</td>\n",
       "      <td>-0.402945</td>\n",
       "      <td>0.201998</td>\n",
       "      <td>-0.384275</td>\n",
       "      <td>0.124657</td>\n",
       "      <td>0.030555</td>\n",
       "      <td>...</td>\n",
       "      <td>0</td>\n",
       "      <td>0</td>\n",
       "      <td>0</td>\n",
       "      <td>0</td>\n",
       "      <td>0</td>\n",
       "      <td>0</td>\n",
       "      <td>0</td>\n",
       "      <td>1</td>\n",
       "      <td>0</td>\n",
       "      <td>1</td>\n",
       "    </tr>\n",
       "    <tr>\n",
       "      <th>1</th>\n",
       "      <td>-1.602404</td>\n",
       "      <td>-0.918521</td>\n",
       "      <td>-0.212236</td>\n",
       "      <td>0.758356</td>\n",
       "      <td>0.630621</td>\n",
       "      <td>0.804378</td>\n",
       "      <td>0.566296</td>\n",
       "      <td>-0.381368</td>\n",
       "      <td>-0.186915</td>\n",
       "      <td>-0.137161</td>\n",
       "      <td>...</td>\n",
       "      <td>1</td>\n",
       "      <td>0</td>\n",
       "      <td>1</td>\n",
       "      <td>1</td>\n",
       "      <td>0</td>\n",
       "      <td>1</td>\n",
       "      <td>0</td>\n",
       "      <td>1</td>\n",
       "      <td>0</td>\n",
       "      <td>0</td>\n",
       "    </tr>\n",
       "    <tr>\n",
       "      <th>2</th>\n",
       "      <td>1.851160</td>\n",
       "      <td>-0.390550</td>\n",
       "      <td>-1.219694</td>\n",
       "      <td>-0.375196</td>\n",
       "      <td>-0.066938</td>\n",
       "      <td>-2.408254</td>\n",
       "      <td>1.042342</td>\n",
       "      <td>0.338790</td>\n",
       "      <td>-0.266549</td>\n",
       "      <td>0.107196</td>\n",
       "      <td>...</td>\n",
       "      <td>0</td>\n",
       "      <td>0</td>\n",
       "      <td>1</td>\n",
       "      <td>0</td>\n",
       "      <td>0</td>\n",
       "      <td>0</td>\n",
       "      <td>0</td>\n",
       "      <td>1</td>\n",
       "      <td>0</td>\n",
       "      <td>1</td>\n",
       "    </tr>\n",
       "    <tr>\n",
       "      <th>3</th>\n",
       "      <td>-2.619919</td>\n",
       "      <td>-0.991275</td>\n",
       "      <td>-0.326821</td>\n",
       "      <td>-0.659485</td>\n",
       "      <td>0.247009</td>\n",
       "      <td>0.307912</td>\n",
       "      <td>0.103035</td>\n",
       "      <td>-0.194544</td>\n",
       "      <td>0.282616</td>\n",
       "      <td>0.018554</td>\n",
       "      <td>...</td>\n",
       "      <td>1</td>\n",
       "      <td>1</td>\n",
       "      <td>1</td>\n",
       "      <td>1</td>\n",
       "      <td>1</td>\n",
       "      <td>0</td>\n",
       "      <td>0</td>\n",
       "      <td>1</td>\n",
       "      <td>0</td>\n",
       "      <td>0</td>\n",
       "    </tr>\n",
       "    <tr>\n",
       "      <th>4</th>\n",
       "      <td>-1.306145</td>\n",
       "      <td>1.570789</td>\n",
       "      <td>0.039245</td>\n",
       "      <td>2.709160</td>\n",
       "      <td>2.288982</td>\n",
       "      <td>-1.083394</td>\n",
       "      <td>-1.092380</td>\n",
       "      <td>-0.475775</td>\n",
       "      <td>0.017972</td>\n",
       "      <td>-0.057198</td>\n",
       "      <td>...</td>\n",
       "      <td>0</td>\n",
       "      <td>0</td>\n",
       "      <td>0</td>\n",
       "      <td>0</td>\n",
       "      <td>0</td>\n",
       "      <td>0</td>\n",
       "      <td>0</td>\n",
       "      <td>1</td>\n",
       "      <td>0</td>\n",
       "      <td>1</td>\n",
       "    </tr>\n",
       "  </tbody>\n",
       "</table>\n",
       "<p>5 rows × 36 columns</p>\n",
       "</div>"
      ],
      "text/plain": [
       "      PCA_0     PCA_1     PCA_2     PCA_3     PCA_4     PCA_5     PCA_6  \\\n",
       "0  2.490674  0.490065 -0.012325  1.154325  0.018495 -0.402945  0.201998   \n",
       "1 -1.602404 -0.918521 -0.212236  0.758356  0.630621  0.804378  0.566296   \n",
       "2  1.851160 -0.390550 -1.219694 -0.375196 -0.066938 -2.408254  1.042342   \n",
       "3 -2.619919 -0.991275 -0.326821 -0.659485  0.247009  0.307912  0.103035   \n",
       "4 -1.306145  1.570789  0.039245  2.709160  2.288982 -1.083394 -1.092380   \n",
       "\n",
       "      PCA_7     PCA_8     PCA_9  ...  Gen_GvI_2  Gen_GvA_3  Gen_BMI_4  \\\n",
       "0 -0.384275  0.124657  0.030555  ...          0          0          0   \n",
       "1 -0.381368 -0.186915 -0.137161  ...          1          0          1   \n",
       "2  0.338790 -0.266549  0.107196  ...          0          0          1   \n",
       "3 -0.194544  0.282616  0.018554  ...          1          1          1   \n",
       "4 -0.475775  0.017972 -0.057198  ...          0          0          0   \n",
       "\n",
       "   Gen_BvP_5  Gen_AvP_6  Gen_GvB_7  Gen_BvS_8  Gen_BP_9  Gen_t1_10  Outcome  \n",
       "0          0          0          0          0         1          0        1  \n",
       "1          1          0          1          0         1          0        0  \n",
       "2          0          0          0          0         1          0        1  \n",
       "3          1          1          0          0         1          0        0  \n",
       "4          0          0          0          0         1          0        1  \n",
       "\n",
       "[5 rows x 36 columns]"
      ]
     },
     "execution_count": 3,
     "metadata": {},
     "output_type": "execute_result"
    }
   ],
   "source": [
    "data = pd.read_csv('../data/diabetes-FINAL(PCA+FE).csv')\n",
    "data.drop('Unnamed: 0', axis=1, inplace=True)\n",
    "data.head()"
   ]
  },
  {
   "cell_type": "code",
   "execution_count": 4,
   "metadata": {},
   "outputs": [
    {
     "name": "stdout",
     "output_type": "stream",
     "text": [
      "['PCA_0', 'PCA_1', 'PCA_2', 'PCA_3', 'PCA_4', 'PCA_5', 'PCA_6', 'PCA_7', 'PCA_8', 'PCA_9', 'PCA_10', 'PCA_11', 'Pregnancies', 'Glucose', 'BloodPressure', 'SkinThickness', 'Insulin', 'BMI', 'Age', 'Num_1', 'Num_2', 'Num_3', 'Num_4', 'Num_5', 'Gen_GvP_0', 'Gen_GvBP_1', 'Gen_GvI_2', 'Gen_GvA_3', 'Gen_BMI_4', 'Gen_BvP_5', 'Gen_AvP_6', 'Gen_GvB_7', 'Gen_BvS_8', 'Gen_BP_9', 'Gen_t1_10', 'Outcome']\n"
     ]
    }
   ],
   "source": [
    "columns = list(data.columns)\n",
    "print(columns)"
   ]
  },
  {
   "cell_type": "markdown",
   "metadata": {},
   "source": [
    "## Input & Output Data"
   ]
  },
  {
   "cell_type": "code",
   "execution_count": 6,
   "metadata": {},
   "outputs": [
    {
     "data": {
      "text/plain": [
       "(768, 27)"
      ]
     },
     "execution_count": 6,
     "metadata": {},
     "output_type": "execute_result"
    }
   ],
   "source": [
    "X = data[['PCA_0', 'PCA_1', 'PCA_5', 'PCA_8', 'Pregnancies', \n",
    "          'Glucose', 'BloodPressure', 'SkinThickness', 'Insulin', 'BMI', \n",
    "          'Age', 'Num_1', 'Num_2', 'Num_3', 'Num_4', 'Num_5', 'Gen_GvP_0', \n",
    "          'Gen_GvBP_1', 'Gen_GvI_2', 'Gen_GvA_3', 'Gen_BMI_4', 'Gen_BvP_5', \n",
    "          'Gen_AvP_6', 'Gen_GvB_7', 'Gen_BvS_8', 'Gen_BP_9', 'Gen_t1_10', 'Outcome']].iloc[:, 0:-1].values;\n",
    "X.shape"
   ]
  },
  {
   "cell_type": "code",
   "execution_count": 9,
   "metadata": {},
   "outputs": [
    {
     "data": {
      "text/plain": [
       "27"
      ]
     },
     "execution_count": 9,
     "metadata": {},
     "output_type": "execute_result"
    }
   ],
   "source": [
    "X.shape[1]"
   ]
  },
  {
   "cell_type": "code",
   "execution_count": 8,
   "metadata": {},
   "outputs": [
    {
     "data": {
      "text/plain": [
       "(27,)"
      ]
     },
     "execution_count": 8,
     "metadata": {},
     "output_type": "execute_result"
    }
   ],
   "source": [
    "X[0].shape"
   ]
  },
  {
   "cell_type": "code",
   "execution_count": 5,
   "metadata": {},
   "outputs": [
    {
     "data": {
      "text/plain": [
       "(768,)"
      ]
     },
     "execution_count": 5,
     "metadata": {},
     "output_type": "execute_result"
    }
   ],
   "source": [
    "y = data['Outcome'].values;\n",
    "y.shape"
   ]
  },
  {
   "cell_type": "markdown",
   "metadata": {},
   "source": [
    "## Data Splitting"
   ]
  },
  {
   "cell_type": "markdown",
   "metadata": {},
   "source": [
    "Function to check best random state for splitting"
   ]
  },
  {
   "cell_type": "code",
   "execution_count": 7,
   "metadata": {},
   "outputs": [
    {
     "name": "stdout",
     "output_type": "stream",
     "text": [
      "154 395\n"
     ]
    }
   ],
   "source": [
    "differ=[]\n",
    "for i in range(1000):\n",
    "    xTrain,xTest,yTrain,yTest=tts(X, y, test_size=0.2, random_state=i)\n",
    "    count_1 = np.sum(yTrain)\n",
    "    count_0 = len(yTrain)-count_1\n",
    "    diff = abs(count_0-count_1)\n",
    "    differ.append(abs(diff))\n",
    "print(min(differ), differ.index(min(differ)))"
   ]
  },
  {
   "cell_type": "markdown",
   "metadata": {},
   "source": [
    "Splitting the data and details of the split"
   ]
  },
  {
   "cell_type": "code",
   "execution_count": 8,
   "metadata": {},
   "outputs": [
    {
     "name": "stdout",
     "output_type": "stream",
     "text": [
      "Train:\n",
      "1s: 230\n",
      "0s: 384\n",
      "Difference: 154\n",
      "\n",
      "Test:\n",
      "1s: 38\n",
      "0s: 116\n",
      "Difference: 78\n"
     ]
    }
   ],
   "source": [
    "xTrain,xTest,yTrain,yTest=tts(X, y, test_size=0.2, random_state=395)\n",
    "print('Train:')\n",
    "print('1s:',np.sum(yTrain))\n",
    "print('0s:',len(yTrain)-np.sum(yTrain))\n",
    "print('Difference:', abs(len(yTrain)-np.sum(yTrain) - np.sum(yTrain)))\n",
    "print('\\nTest:')\n",
    "print('1s:',np.sum(yTest))\n",
    "print('0s:',len(yTest)-np.sum(yTest))\n",
    "print('Difference:', abs(len(yTest)-np.sum(yTest) - np.sum(yTest)))"
   ]
  },
  {
   "cell_type": "code",
   "execution_count": 9,
   "metadata": {},
   "outputs": [
    {
     "name": "stdout",
     "output_type": "stream",
     "text": [
      "(614, 27) (614,)\n",
      "(154, 27) (154,)\n"
     ]
    }
   ],
   "source": [
    "print(xTrain.shape, yTrain.shape)\n",
    "print(xTest.shape, yTest.shape)"
   ]
  },
  {
   "cell_type": "markdown",
   "metadata": {},
   "source": [
    "# Model Training"
   ]
  },
  {
   "cell_type": "markdown",
   "metadata": {},
   "source": [
    "## Hyper-Parameter Initialization"
   ]
  },
  {
   "cell_type": "code",
   "execution_count": 10,
   "metadata": {},
   "outputs": [],
   "source": [
    "epochs = 200\n",
    "lr = 0.2*0.01\n",
    "decay = 0.1/epochs\n",
    "adam = Adam(lr=lr, decay=decay)"
   ]
  },
  {
   "cell_type": "markdown",
   "metadata": {},
   "source": [
    "## Model Architecture"
   ]
  },
  {
   "cell_type": "code",
   "execution_count": 11,
   "metadata": {},
   "outputs": [],
   "source": [
    "input_dim=X.shape[1]\n",
    "\n",
    "model=Sequential()\n",
    "model.add(Dense(20, input_dim=input_dim, activation='relu'))\n",
    "model.add(Dropout(0.4))\n",
    "model.add(Dense(20, activation='relu'))\n",
    "model.add(Dropout(0.4))\n",
    "model.add(Dense(1, activation='sigmoid'))\n",
    "\n",
    "model.compile(optimizer='adam', loss='binary_crossentropy', metrics=['acc'])"
   ]
  },
  {
   "cell_type": "markdown",
   "metadata": {},
   "source": [
    "## Training"
   ]
  },
  {
   "cell_type": "code",
   "execution_count": 12,
   "metadata": {},
   "outputs": [
    {
     "name": "stdout",
     "output_type": "stream",
     "text": [
      "Epoch 1/200\n",
      "20/20 [==============================] - 1s 28ms/step - loss: 0.9273 - acc: 0.5033 - val_loss: 0.6876 - val_acc: 0.5649\n",
      "Epoch 2/200\n",
      "20/20 [==============================] - 0s 4ms/step - loss: 0.7690 - acc: 0.5391 - val_loss: 0.5653 - val_acc: 0.7597\n",
      "Epoch 3/200\n",
      "20/20 [==============================] - 0s 4ms/step - loss: 0.6871 - acc: 0.6221 - val_loss: 0.5097 - val_acc: 0.8052\n",
      "Epoch 4/200\n",
      "20/20 [==============================] - 0s 4ms/step - loss: 0.6122 - acc: 0.6694 - val_loss: 0.4768 - val_acc: 0.8052\n",
      "Epoch 5/200\n",
      "20/20 [==============================] - 0s 3ms/step - loss: 0.5936 - acc: 0.6857 - val_loss: 0.4522 - val_acc: 0.8247\n",
      "Epoch 6/200\n",
      "20/20 [==============================] - 0s 5ms/step - loss: 0.5557 - acc: 0.7248 - val_loss: 0.4386 - val_acc: 0.8117\n",
      "Epoch 7/200\n",
      "20/20 [==============================] - 0s 3ms/step - loss: 0.5563 - acc: 0.7134 - val_loss: 0.4310 - val_acc: 0.8117\n",
      "Epoch 8/200\n",
      "20/20 [==============================] - 0s 3ms/step - loss: 0.5104 - acc: 0.7459 - val_loss: 0.4225 - val_acc: 0.8182\n",
      "Epoch 9/200\n",
      "20/20 [==============================] - 0s 3ms/step - loss: 0.5263 - acc: 0.7378 - val_loss: 0.4167 - val_acc: 0.8247\n",
      "Epoch 10/200\n",
      "20/20 [==============================] - 0s 3ms/step - loss: 0.5250 - acc: 0.7508 - val_loss: 0.4145 - val_acc: 0.8182\n",
      "Epoch 11/200\n",
      "20/20 [==============================] - 0s 3ms/step - loss: 0.4892 - acc: 0.7850 - val_loss: 0.4099 - val_acc: 0.8182\n",
      "Epoch 12/200\n",
      "20/20 [==============================] - 0s 3ms/step - loss: 0.5032 - acc: 0.7541 - val_loss: 0.4069 - val_acc: 0.8182\n",
      "Epoch 13/200\n",
      "20/20 [==============================] - 0s 5ms/step - loss: 0.4764 - acc: 0.7720 - val_loss: 0.4042 - val_acc: 0.8117\n",
      "Epoch 14/200\n",
      "20/20 [==============================] - 0s 3ms/step - loss: 0.4978 - acc: 0.7671 - val_loss: 0.3997 - val_acc: 0.8182\n",
      "Epoch 15/200\n",
      "20/20 [==============================] - 0s 3ms/step - loss: 0.4942 - acc: 0.7785 - val_loss: 0.4008 - val_acc: 0.8182\n",
      "Epoch 16/200\n",
      "20/20 [==============================] - 0s 3ms/step - loss: 0.4739 - acc: 0.7769 - val_loss: 0.3994 - val_acc: 0.8182\n",
      "Epoch 17/200\n",
      "20/20 [==============================] - 0s 3ms/step - loss: 0.4491 - acc: 0.8143 - val_loss: 0.3969 - val_acc: 0.8182\n",
      "Epoch 18/200\n",
      "20/20 [==============================] - 0s 3ms/step - loss: 0.4576 - acc: 0.7964 - val_loss: 0.3942 - val_acc: 0.8182\n",
      "Epoch 19/200\n",
      "20/20 [==============================] - 0s 3ms/step - loss: 0.4530 - acc: 0.8046 - val_loss: 0.3937 - val_acc: 0.8182\n",
      "Epoch 20/200\n",
      "20/20 [==============================] - 0s 3ms/step - loss: 0.4556 - acc: 0.7834 - val_loss: 0.3912 - val_acc: 0.8247\n",
      "Epoch 21/200\n",
      "20/20 [==============================] - 0s 5ms/step - loss: 0.4545 - acc: 0.8062 - val_loss: 0.3921 - val_acc: 0.8182\n",
      "Epoch 22/200\n",
      "20/20 [==============================] - 0s 3ms/step - loss: 0.4761 - acc: 0.7932 - val_loss: 0.3915 - val_acc: 0.8182\n",
      "Epoch 23/200\n",
      "20/20 [==============================] - 0s 3ms/step - loss: 0.4515 - acc: 0.8062 - val_loss: 0.3884 - val_acc: 0.8182\n",
      "Epoch 24/200\n",
      "20/20 [==============================] - 0s 3ms/step - loss: 0.4442 - acc: 0.7883 - val_loss: 0.3836 - val_acc: 0.8182\n",
      "Epoch 25/200\n",
      "20/20 [==============================] - 0s 3ms/step - loss: 0.4373 - acc: 0.8127 - val_loss: 0.3831 - val_acc: 0.8182\n",
      "Epoch 26/200\n",
      "20/20 [==============================] - 0s 3ms/step - loss: 0.4487 - acc: 0.7932 - val_loss: 0.3816 - val_acc: 0.8117\n",
      "Epoch 27/200\n",
      "20/20 [==============================] - 0s 4ms/step - loss: 0.4523 - acc: 0.7899 - val_loss: 0.3814 - val_acc: 0.8182\n",
      "Epoch 28/200\n",
      "20/20 [==============================] - 0s 4ms/step - loss: 0.4234 - acc: 0.8176 - val_loss: 0.3790 - val_acc: 0.8182\n",
      "Epoch 29/200\n",
      "20/20 [==============================] - 0s 4ms/step - loss: 0.4173 - acc: 0.8160 - val_loss: 0.3776 - val_acc: 0.8247\n",
      "Epoch 30/200\n",
      "20/20 [==============================] - 0s 3ms/step - loss: 0.4308 - acc: 0.8257 - val_loss: 0.3771 - val_acc: 0.8247\n",
      "Epoch 31/200\n",
      "20/20 [==============================] - 0s 3ms/step - loss: 0.4101 - acc: 0.8274 - val_loss: 0.3777 - val_acc: 0.8377\n",
      "Epoch 32/200\n",
      "20/20 [==============================] - 0s 3ms/step - loss: 0.4330 - acc: 0.8388 - val_loss: 0.3793 - val_acc: 0.8377\n",
      "Epoch 33/200\n",
      "20/20 [==============================] - 0s 3ms/step - loss: 0.4287 - acc: 0.8111 - val_loss: 0.3850 - val_acc: 0.8312\n",
      "Epoch 34/200\n",
      "20/20 [==============================] - 0s 3ms/step - loss: 0.4080 - acc: 0.8274 - val_loss: 0.3833 - val_acc: 0.8247\n",
      "Epoch 35/200\n",
      "20/20 [==============================] - 0s 4ms/step - loss: 0.4173 - acc: 0.8322 - val_loss: 0.3755 - val_acc: 0.8377\n",
      "Epoch 36/200\n",
      "20/20 [==============================] - ETA: 0s - loss: 0.4025 - acc: 0.812 - 0s 4ms/step - loss: 0.4126 - acc: 0.8241 - val_loss: 0.3767 - val_acc: 0.8377\n",
      "Epoch 37/200\n",
      "20/20 [==============================] - 0s 4ms/step - loss: 0.4327 - acc: 0.8453 - val_loss: 0.3775 - val_acc: 0.8312\n",
      "Epoch 38/200\n",
      "20/20 [==============================] - 0s 4ms/step - loss: 0.4383 - acc: 0.8241 - val_loss: 0.3790 - val_acc: 0.8312\n",
      "Epoch 39/200\n",
      "20/20 [==============================] - 0s 4ms/step - loss: 0.4094 - acc: 0.8274 - val_loss: 0.3731 - val_acc: 0.8312\n",
      "Epoch 40/200\n",
      "20/20 [==============================] - 0s 3ms/step - loss: 0.4228 - acc: 0.8274 - val_loss: 0.3708 - val_acc: 0.8377\n",
      "Epoch 41/200\n",
      "20/20 [==============================] - 0s 3ms/step - loss: 0.4463 - acc: 0.8257 - val_loss: 0.3699 - val_acc: 0.8506\n",
      "Epoch 42/200\n",
      "20/20 [==============================] - 0s 4ms/step - loss: 0.4309 - acc: 0.8420 - val_loss: 0.3698 - val_acc: 0.8506\n",
      "Epoch 43/200\n",
      "20/20 [==============================] - 0s 3ms/step - loss: 0.4064 - acc: 0.8534 - val_loss: 0.3742 - val_acc: 0.8312\n",
      "Epoch 44/200\n",
      "20/20 [==============================] - 0s 3ms/step - loss: 0.4016 - acc: 0.8436 - val_loss: 0.3713 - val_acc: 0.8442\n",
      "Epoch 45/200\n",
      "20/20 [==============================] - 0s 3ms/step - loss: 0.3970 - acc: 0.8388 - val_loss: 0.3684 - val_acc: 0.8442\n",
      "Epoch 46/200\n",
      "20/20 [==============================] - 0s 3ms/step - loss: 0.4128 - acc: 0.8420 - val_loss: 0.3665 - val_acc: 0.8442\n",
      "Epoch 47/200\n",
      "20/20 [==============================] - 0s 3ms/step - loss: 0.3990 - acc: 0.8485 - val_loss: 0.3692 - val_acc: 0.8442\n",
      "Epoch 48/200\n",
      "20/20 [==============================] - 0s 3ms/step - loss: 0.4041 - acc: 0.8550 - val_loss: 0.3700 - val_acc: 0.8442\n",
      "Epoch 49/200\n",
      "20/20 [==============================] - 0s 4ms/step - loss: 0.3910 - acc: 0.8404 - val_loss: 0.3708 - val_acc: 0.8377\n",
      "Epoch 50/200\n",
      "20/20 [==============================] - 0s 3ms/step - loss: 0.4062 - acc: 0.8355 - val_loss: 0.3732 - val_acc: 0.8377\n",
      "Epoch 51/200\n",
      "20/20 [==============================] - 0s 3ms/step - loss: 0.3918 - acc: 0.8420 - val_loss: 0.3702 - val_acc: 0.8377\n",
      "Epoch 52/200\n",
      "20/20 [==============================] - 0s 3ms/step - loss: 0.3841 - acc: 0.8518 - val_loss: 0.3692 - val_acc: 0.8442\n",
      "Epoch 53/200\n",
      "20/20 [==============================] - 0s 4ms/step - loss: 0.3938 - acc: 0.8404 - val_loss: 0.3656 - val_acc: 0.8506\n",
      "Epoch 54/200\n",
      "20/20 [==============================] - 0s 4ms/step - loss: 0.3865 - acc: 0.8518 - val_loss: 0.3658 - val_acc: 0.8506\n",
      "Epoch 55/200\n",
      "20/20 [==============================] - 0s 3ms/step - loss: 0.3890 - acc: 0.8502 - val_loss: 0.3640 - val_acc: 0.8506\n",
      "Epoch 56/200\n",
      "20/20 [==============================] - 0s 3ms/step - loss: 0.3839 - acc: 0.8616 - val_loss: 0.3673 - val_acc: 0.8377\n",
      "Epoch 57/200\n",
      "20/20 [==============================] - 0s 4ms/step - loss: 0.3846 - acc: 0.8436 - val_loss: 0.3720 - val_acc: 0.8377\n",
      "Epoch 58/200\n",
      "20/20 [==============================] - 0s 3ms/step - loss: 0.3927 - acc: 0.8567 - val_loss: 0.3657 - val_acc: 0.8377\n",
      "Epoch 59/200\n",
      "20/20 [==============================] - 0s 3ms/step - loss: 0.3993 - acc: 0.8453 - val_loss: 0.3600 - val_acc: 0.8442\n",
      "Epoch 60/200\n",
      "20/20 [==============================] - 0s 3ms/step - loss: 0.3921 - acc: 0.8436 - val_loss: 0.3609 - val_acc: 0.8377\n",
      "Epoch 61/200\n",
      "20/20 [==============================] - 0s 3ms/step - loss: 0.3855 - acc: 0.8322 - val_loss: 0.3672 - val_acc: 0.8377\n",
      "Epoch 62/200\n",
      "20/20 [==============================] - 0s 3ms/step - loss: 0.3703 - acc: 0.8616 - val_loss: 0.3671 - val_acc: 0.8377\n"
     ]
    },
    {
     "name": "stdout",
     "output_type": "stream",
     "text": [
      "Epoch 63/200\n",
      "20/20 [==============================] - 0s 3ms/step - loss: 0.3768 - acc: 0.8599 - val_loss: 0.3668 - val_acc: 0.8377\n",
      "Epoch 64/200\n",
      "20/20 [==============================] - 0s 3ms/step - loss: 0.3675 - acc: 0.8599 - val_loss: 0.3712 - val_acc: 0.8377\n",
      "Epoch 65/200\n",
      "20/20 [==============================] - 0s 4ms/step - loss: 0.3939 - acc: 0.8567 - val_loss: 0.3648 - val_acc: 0.8442\n",
      "Epoch 66/200\n",
      "20/20 [==============================] - 0s 3ms/step - loss: 0.3904 - acc: 0.8664 - val_loss: 0.3649 - val_acc: 0.8442\n",
      "Epoch 67/200\n",
      "20/20 [==============================] - 0s 3ms/step - loss: 0.3670 - acc: 0.8485 - val_loss: 0.3673 - val_acc: 0.8377\n",
      "Epoch 68/200\n",
      "20/20 [==============================] - 0s 3ms/step - loss: 0.4022 - acc: 0.8485 - val_loss: 0.3624 - val_acc: 0.8442\n",
      "Epoch 69/200\n",
      "20/20 [==============================] - 0s 3ms/step - loss: 0.3820 - acc: 0.8518 - val_loss: 0.3651 - val_acc: 0.8442\n",
      "Epoch 70/200\n",
      "20/20 [==============================] - 0s 3ms/step - loss: 0.3798 - acc: 0.8485 - val_loss: 0.3608 - val_acc: 0.8442\n",
      "Epoch 71/200\n",
      "20/20 [==============================] - 0s 4ms/step - loss: 0.3855 - acc: 0.8599 - val_loss: 0.3627 - val_acc: 0.8442\n",
      "Epoch 72/200\n",
      "20/20 [==============================] - 0s 4ms/step - loss: 0.3650 - acc: 0.8648 - val_loss: 0.3619 - val_acc: 0.8442\n",
      "Epoch 73/200\n",
      "20/20 [==============================] - 0s 6ms/step - loss: 0.3923 - acc: 0.8485 - val_loss: 0.3625 - val_acc: 0.8377\n",
      "Epoch 74/200\n",
      "20/20 [==============================] - 0s 3ms/step - loss: 0.3475 - acc: 0.8730 - val_loss: 0.3595 - val_acc: 0.8377\n",
      "Epoch 75/200\n",
      "20/20 [==============================] - 0s 3ms/step - loss: 0.3876 - acc: 0.8420 - val_loss: 0.3630 - val_acc: 0.8377\n",
      "Epoch 76/200\n",
      "20/20 [==============================] - 0s 3ms/step - loss: 0.3750 - acc: 0.8567 - val_loss: 0.3695 - val_acc: 0.8247\n",
      "Epoch 77/200\n",
      "20/20 [==============================] - 0s 3ms/step - loss: 0.3742 - acc: 0.8518 - val_loss: 0.3587 - val_acc: 0.8442\n",
      "Epoch 78/200\n",
      "20/20 [==============================] - 0s 4ms/step - loss: 0.3818 - acc: 0.8567 - val_loss: 0.3600 - val_acc: 0.8377\n",
      "Epoch 79/200\n",
      "20/20 [==============================] - 0s 4ms/step - loss: 0.3839 - acc: 0.8485 - val_loss: 0.3549 - val_acc: 0.8506\n",
      "Epoch 80/200\n",
      "20/20 [==============================] - 0s 3ms/step - loss: 0.3846 - acc: 0.8502 - val_loss: 0.3572 - val_acc: 0.8377\n",
      "Epoch 81/200\n",
      "20/20 [==============================] - 0s 3ms/step - loss: 0.3751 - acc: 0.8518 - val_loss: 0.3593 - val_acc: 0.8442\n",
      "Epoch 82/200\n",
      "20/20 [==============================] - 0s 2ms/step - loss: 0.3650 - acc: 0.8648 - val_loss: 0.3616 - val_acc: 0.8377\n",
      "Epoch 83/200\n",
      "20/20 [==============================] - 0s 3ms/step - loss: 0.3594 - acc: 0.8779 - val_loss: 0.3632 - val_acc: 0.8312\n",
      "Epoch 84/200\n",
      "20/20 [==============================] - 0s 3ms/step - loss: 0.3770 - acc: 0.8534 - val_loss: 0.3597 - val_acc: 0.8377\n",
      "Epoch 85/200\n",
      "20/20 [==============================] - 0s 3ms/step - loss: 0.3465 - acc: 0.8567 - val_loss: 0.3591 - val_acc: 0.8442\n",
      "Epoch 86/200\n",
      "20/20 [==============================] - 0s 3ms/step - loss: 0.3673 - acc: 0.8567 - val_loss: 0.3645 - val_acc: 0.8312\n",
      "Epoch 87/200\n",
      "20/20 [==============================] - 0s 5ms/step - loss: 0.3586 - acc: 0.8697 - val_loss: 0.3647 - val_acc: 0.8377\n",
      "Epoch 88/200\n",
      "20/20 [==============================] - 0s 3ms/step - loss: 0.3358 - acc: 0.8713 - val_loss: 0.3609 - val_acc: 0.8377\n",
      "Epoch 89/200\n",
      "20/20 [==============================] - 0s 3ms/step - loss: 0.3475 - acc: 0.8827 - val_loss: 0.3612 - val_acc: 0.8312\n",
      "Epoch 90/200\n",
      "20/20 [==============================] - 0s 3ms/step - loss: 0.3323 - acc: 0.8713 - val_loss: 0.3612 - val_acc: 0.8312\n",
      "Epoch 91/200\n",
      "20/20 [==============================] - 0s 3ms/step - loss: 0.3479 - acc: 0.8518 - val_loss: 0.3597 - val_acc: 0.8312\n",
      "Epoch 92/200\n",
      "20/20 [==============================] - 0s 3ms/step - loss: 0.3633 - acc: 0.8599 - val_loss: 0.3594 - val_acc: 0.8312\n",
      "Epoch 93/200\n",
      "20/20 [==============================] - 0s 3ms/step - loss: 0.3545 - acc: 0.8664 - val_loss: 0.3595 - val_acc: 0.8442\n",
      "Epoch 94/200\n",
      "20/20 [==============================] - 0s 3ms/step - loss: 0.3475 - acc: 0.8762 - val_loss: 0.3626 - val_acc: 0.8312\n",
      "Epoch 95/200\n",
      "20/20 [==============================] - 0s 5ms/step - loss: 0.3677 - acc: 0.8599 - val_loss: 0.3619 - val_acc: 0.8247\n",
      "Epoch 96/200\n",
      "20/20 [==============================] - 0s 3ms/step - loss: 0.3455 - acc: 0.8811 - val_loss: 0.3623 - val_acc: 0.8182\n",
      "Epoch 97/200\n",
      "20/20 [==============================] - 0s 3ms/step - loss: 0.3571 - acc: 0.8779 - val_loss: 0.3621 - val_acc: 0.8182\n",
      "Epoch 98/200\n",
      "20/20 [==============================] - 0s 3ms/step - loss: 0.3741 - acc: 0.8567 - val_loss: 0.3548 - val_acc: 0.8442\n",
      "Epoch 99/200\n",
      "20/20 [==============================] - 0s 3ms/step - loss: 0.3452 - acc: 0.8762 - val_loss: 0.3574 - val_acc: 0.8182\n",
      "Epoch 100/200\n",
      "20/20 [==============================] - 0s 3ms/step - loss: 0.3791 - acc: 0.8664 - val_loss: 0.3558 - val_acc: 0.8377\n",
      "Epoch 101/200\n",
      "20/20 [==============================] - 0s 3ms/step - loss: 0.3542 - acc: 0.8746 - val_loss: 0.3541 - val_acc: 0.8312\n",
      "Epoch 102/200\n",
      "20/20 [==============================] - 0s 3ms/step - loss: 0.3310 - acc: 0.8681 - val_loss: 0.3592 - val_acc: 0.8182\n",
      "Epoch 103/200\n",
      "20/20 [==============================] - 0s 3ms/step - loss: 0.3341 - acc: 0.8599 - val_loss: 0.3598 - val_acc: 0.8117\n",
      "Epoch 104/200\n",
      "20/20 [==============================] - 0s 3ms/step - loss: 0.3230 - acc: 0.8893 - val_loss: 0.3587 - val_acc: 0.8117\n",
      "Epoch 105/200\n",
      "20/20 [==============================] - 0s 3ms/step - loss: 0.3684 - acc: 0.8534 - val_loss: 0.3618 - val_acc: 0.8117\n",
      "Epoch 106/200\n",
      "20/20 [==============================] - 0s 3ms/step - loss: 0.3396 - acc: 0.8730 - val_loss: 0.3664 - val_acc: 0.8117\n",
      "Epoch 107/200\n",
      "20/20 [==============================] - 0s 3ms/step - loss: 0.3384 - acc: 0.8632 - val_loss: 0.3652 - val_acc: 0.8117\n",
      "Epoch 108/200\n",
      "20/20 [==============================] - 0s 3ms/step - loss: 0.3173 - acc: 0.8648 - val_loss: 0.3551 - val_acc: 0.8377\n",
      "Epoch 109/200\n",
      "20/20 [==============================] - 0s 3ms/step - loss: 0.3483 - acc: 0.8583 - val_loss: 0.3606 - val_acc: 0.8117\n",
      "Epoch 110/200\n",
      "20/20 [==============================] - 0s 4ms/step - loss: 0.3330 - acc: 0.8583 - val_loss: 0.3698 - val_acc: 0.8182\n",
      "Epoch 111/200\n",
      "20/20 [==============================] - 0s 4ms/step - loss: 0.3670 - acc: 0.8534 - val_loss: 0.3693 - val_acc: 0.8182\n",
      "Epoch 112/200\n",
      "20/20 [==============================] - 0s 3ms/step - loss: 0.3387 - acc: 0.8779 - val_loss: 0.3672 - val_acc: 0.8182\n",
      "Epoch 113/200\n",
      "20/20 [==============================] - 0s 3ms/step - loss: 0.3355 - acc: 0.8811 - val_loss: 0.3597 - val_acc: 0.8117\n",
      "Epoch 114/200\n",
      "20/20 [==============================] - 0s 3ms/step - loss: 0.3222 - acc: 0.8664 - val_loss: 0.3612 - val_acc: 0.8117\n",
      "Epoch 115/200\n",
      "20/20 [==============================] - 0s 3ms/step - loss: 0.3306 - acc: 0.8616 - val_loss: 0.3649 - val_acc: 0.8117\n",
      "Epoch 116/200\n",
      "20/20 [==============================] - 0s 3ms/step - loss: 0.3323 - acc: 0.8746 - val_loss: 0.3678 - val_acc: 0.8117\n",
      "Epoch 117/200\n",
      "20/20 [==============================] - 0s 2ms/step - loss: 0.3433 - acc: 0.8730 - val_loss: 0.3546 - val_acc: 0.8506\n",
      "Epoch 118/200\n",
      "20/20 [==============================] - 0s 4ms/step - loss: 0.3631 - acc: 0.8746 - val_loss: 0.3504 - val_acc: 0.8442\n",
      "Epoch 119/200\n",
      "20/20 [==============================] - 0s 3ms/step - loss: 0.3397 - acc: 0.8681 - val_loss: 0.3510 - val_acc: 0.8506\n",
      "Epoch 120/200\n",
      "20/20 [==============================] - 0s 3ms/step - loss: 0.3379 - acc: 0.8827 - val_loss: 0.3544 - val_acc: 0.8247\n",
      "Epoch 121/200\n",
      "20/20 [==============================] - 0s 3ms/step - loss: 0.3179 - acc: 0.8844 - val_loss: 0.3664 - val_acc: 0.8182\n",
      "Epoch 122/200\n",
      "20/20 [==============================] - 0s 3ms/step - loss: 0.3265 - acc: 0.8779 - val_loss: 0.3596 - val_acc: 0.8117\n",
      "Epoch 123/200\n",
      "20/20 [==============================] - 0s 3ms/step - loss: 0.3168 - acc: 0.8844 - val_loss: 0.3659 - val_acc: 0.8182\n",
      "Epoch 124/200\n",
      "20/20 [==============================] - 0s 3ms/step - loss: 0.3441 - acc: 0.8730 - val_loss: 0.3562 - val_acc: 0.8182\n"
     ]
    },
    {
     "name": "stdout",
     "output_type": "stream",
     "text": [
      "Epoch 125/200\n",
      "20/20 [==============================] - 0s 3ms/step - loss: 0.3357 - acc: 0.8811 - val_loss: 0.3513 - val_acc: 0.8377\n",
      "Epoch 126/200\n",
      "20/20 [==============================] - 0s 3ms/step - loss: 0.3290 - acc: 0.8697 - val_loss: 0.3530 - val_acc: 0.8312\n",
      "Epoch 127/200\n",
      "20/20 [==============================] - 0s 4ms/step - loss: 0.3265 - acc: 0.8779 - val_loss: 0.3518 - val_acc: 0.8247\n",
      "Epoch 128/200\n",
      "20/20 [==============================] - 0s 3ms/step - loss: 0.3281 - acc: 0.8779 - val_loss: 0.3533 - val_acc: 0.8312\n",
      "Epoch 129/200\n",
      "20/20 [==============================] - 0s 4ms/step - loss: 0.3284 - acc: 0.8746 - val_loss: 0.3540 - val_acc: 0.8247\n",
      "Epoch 130/200\n",
      "20/20 [==============================] - 0s 4ms/step - loss: 0.3262 - acc: 0.8779 - val_loss: 0.3521 - val_acc: 0.8247\n",
      "Epoch 131/200\n",
      "20/20 [==============================] - 0s 3ms/step - loss: 0.3181 - acc: 0.8746 - val_loss: 0.3514 - val_acc: 0.8312\n",
      "Epoch 132/200\n",
      "20/20 [==============================] - 0s 3ms/step - loss: 0.3107 - acc: 0.8844 - val_loss: 0.3590 - val_acc: 0.8182\n",
      "Epoch 133/200\n",
      "20/20 [==============================] - 0s 6ms/step - loss: 0.3325 - acc: 0.8713 - val_loss: 0.3578 - val_acc: 0.8182\n",
      "Epoch 134/200\n",
      "20/20 [==============================] - 0s 4ms/step - loss: 0.3417 - acc: 0.8697 - val_loss: 0.3507 - val_acc: 0.8506\n",
      "Epoch 135/200\n",
      "20/20 [==============================] - 0s 4ms/step - loss: 0.3274 - acc: 0.8827 - val_loss: 0.3534 - val_acc: 0.8442\n",
      "Epoch 136/200\n",
      "20/20 [==============================] - 0s 3ms/step - loss: 0.3238 - acc: 0.8811 - val_loss: 0.3563 - val_acc: 0.8377\n",
      "Epoch 137/200\n",
      "20/20 [==============================] - 0s 3ms/step - loss: 0.2943 - acc: 0.8844 - val_loss: 0.3549 - val_acc: 0.8247\n",
      "Epoch 138/200\n",
      "20/20 [==============================] - 0s 3ms/step - loss: 0.2928 - acc: 0.8795 - val_loss: 0.3605 - val_acc: 0.8247\n",
      "Epoch 139/200\n",
      "20/20 [==============================] - 0s 5ms/step - loss: 0.3299 - acc: 0.8795 - val_loss: 0.3604 - val_acc: 0.8312\n",
      "Epoch 140/200\n",
      "20/20 [==============================] - 0s 3ms/step - loss: 0.2982 - acc: 0.8893 - val_loss: 0.3628 - val_acc: 0.8247\n",
      "Epoch 141/200\n",
      "20/20 [==============================] - 0s 3ms/step - loss: 0.3060 - acc: 0.8925 - val_loss: 0.3607 - val_acc: 0.8377\n",
      "Epoch 142/200\n",
      "20/20 [==============================] - 0s 3ms/step - loss: 0.2984 - acc: 0.8909 - val_loss: 0.3556 - val_acc: 0.8506\n",
      "Epoch 143/200\n",
      "20/20 [==============================] - 0s 3ms/step - loss: 0.3161 - acc: 0.8713 - val_loss: 0.3579 - val_acc: 0.8506\n",
      "Epoch 144/200\n",
      "20/20 [==============================] - 0s 3ms/step - loss: 0.3167 - acc: 0.8811 - val_loss: 0.3609 - val_acc: 0.8506\n",
      "Epoch 145/200\n",
      "20/20 [==============================] - 0s 3ms/step - loss: 0.3334 - acc: 0.8746 - val_loss: 0.3643 - val_acc: 0.8506\n",
      "Epoch 146/200\n",
      "20/20 [==============================] - 0s 3ms/step - loss: 0.3254 - acc: 0.8876 - val_loss: 0.3661 - val_acc: 0.8442\n",
      "Epoch 147/200\n",
      "20/20 [==============================] - 0s 4ms/step - loss: 0.3194 - acc: 0.8925 - val_loss: 0.3631 - val_acc: 0.8442\n",
      "Epoch 148/200\n",
      "20/20 [==============================] - 0s 3ms/step - loss: 0.3101 - acc: 0.8762 - val_loss: 0.3597 - val_acc: 0.8442\n",
      "Epoch 149/200\n",
      "20/20 [==============================] - 0s 3ms/step - loss: 0.2966 - acc: 0.8746 - val_loss: 0.3655 - val_acc: 0.8377\n",
      "Epoch 150/200\n",
      "20/20 [==============================] - 0s 3ms/step - loss: 0.3082 - acc: 0.8730 - val_loss: 0.3532 - val_acc: 0.8442\n",
      "Epoch 151/200\n",
      "20/20 [==============================] - 0s 3ms/step - loss: 0.3193 - acc: 0.8746 - val_loss: 0.3611 - val_acc: 0.8442\n",
      "Epoch 152/200\n",
      "20/20 [==============================] - 0s 3ms/step - loss: 0.2967 - acc: 0.8941 - val_loss: 0.3636 - val_acc: 0.8377\n",
      "Epoch 153/200\n",
      "20/20 [==============================] - 0s 3ms/step - loss: 0.2886 - acc: 0.8762 - val_loss: 0.3618 - val_acc: 0.8377\n",
      "Epoch 154/200\n",
      "20/20 [==============================] - 0s 3ms/step - loss: 0.3084 - acc: 0.9007 - val_loss: 0.3592 - val_acc: 0.8442\n",
      "Epoch 155/200\n",
      "20/20 [==============================] - 0s 4ms/step - loss: 0.3034 - acc: 0.8860 - val_loss: 0.3568 - val_acc: 0.8442\n",
      "Epoch 156/200\n",
      "20/20 [==============================] - 0s 3ms/step - loss: 0.3241 - acc: 0.8844 - val_loss: 0.3601 - val_acc: 0.8442\n",
      "Epoch 157/200\n",
      "20/20 [==============================] - 0s 3ms/step - loss: 0.2914 - acc: 0.8876 - val_loss: 0.3589 - val_acc: 0.8442\n",
      "Epoch 158/200\n",
      "20/20 [==============================] - 0s 3ms/step - loss: 0.2964 - acc: 0.8909 - val_loss: 0.3648 - val_acc: 0.8247\n",
      "Epoch 159/200\n",
      "20/20 [==============================] - 0s 3ms/step - loss: 0.3034 - acc: 0.8893 - val_loss: 0.3588 - val_acc: 0.8377\n",
      "Epoch 160/200\n",
      "20/20 [==============================] - 0s 5ms/step - loss: 0.3039 - acc: 0.8811 - val_loss: 0.3662 - val_acc: 0.8312\n",
      "Epoch 161/200\n",
      "20/20 [==============================] - 0s 4ms/step - loss: 0.3204 - acc: 0.8811 - val_loss: 0.3616 - val_acc: 0.8377\n",
      "Epoch 162/200\n",
      "20/20 [==============================] - 0s 5ms/step - loss: 0.3100 - acc: 0.8746 - val_loss: 0.3671 - val_acc: 0.8377\n",
      "Epoch 163/200\n",
      "20/20 [==============================] - 0s 4ms/step - loss: 0.2982 - acc: 0.8844 - val_loss: 0.3685 - val_acc: 0.8377\n",
      "Epoch 164/200\n",
      "20/20 [==============================] - 0s 3ms/step - loss: 0.2903 - acc: 0.9007 - val_loss: 0.3732 - val_acc: 0.8312\n",
      "Epoch 165/200\n",
      "20/20 [==============================] - 0s 4ms/step - loss: 0.2919 - acc: 0.8860 - val_loss: 0.3705 - val_acc: 0.8377\n",
      "Epoch 166/200\n",
      "20/20 [==============================] - 0s 5ms/step - loss: 0.3098 - acc: 0.8860 - val_loss: 0.3649 - val_acc: 0.8377\n",
      "Epoch 167/200\n",
      "20/20 [==============================] - 0s 8ms/step - loss: 0.3126 - acc: 0.8811 - val_loss: 0.3602 - val_acc: 0.8442\n",
      "Epoch 168/200\n",
      "20/20 [==============================] - 0s 13ms/step - loss: 0.2924 - acc: 0.8762 - val_loss: 0.3592 - val_acc: 0.8442\n",
      "Epoch 169/200\n",
      "20/20 [==============================] - 0s 11ms/step - loss: 0.2904 - acc: 0.8909 - val_loss: 0.3549 - val_acc: 0.8506\n",
      "Epoch 170/200\n",
      "20/20 [==============================] - 0s 3ms/step - loss: 0.3112 - acc: 0.8795 - val_loss: 0.3632 - val_acc: 0.8442\n",
      "Epoch 171/200\n",
      "20/20 [==============================] - 0s 3ms/step - loss: 0.3182 - acc: 0.8762 - val_loss: 0.3596 - val_acc: 0.8571\n",
      "Epoch 172/200\n",
      "20/20 [==============================] - 0s 3ms/step - loss: 0.3306 - acc: 0.8730 - val_loss: 0.3599 - val_acc: 0.8506\n",
      "Epoch 173/200\n",
      "20/20 [==============================] - 0s 3ms/step - loss: 0.3060 - acc: 0.8844 - val_loss: 0.3630 - val_acc: 0.8442\n",
      "Epoch 174/200\n",
      "20/20 [==============================] - 0s 3ms/step - loss: 0.2895 - acc: 0.8779 - val_loss: 0.3549 - val_acc: 0.8442\n",
      "Epoch 175/200\n",
      "20/20 [==============================] - 0s 3ms/step - loss: 0.3025 - acc: 0.8860 - val_loss: 0.3608 - val_acc: 0.8442\n",
      "Epoch 176/200\n",
      "20/20 [==============================] - 0s 3ms/step - loss: 0.2792 - acc: 0.8876 - val_loss: 0.3584 - val_acc: 0.8377\n",
      "Epoch 177/200\n",
      "20/20 [==============================] - 0s 4ms/step - loss: 0.2983 - acc: 0.8893 - val_loss: 0.3496 - val_acc: 0.8442\n",
      "Epoch 178/200\n",
      "20/20 [==============================] - 0s 3ms/step - loss: 0.3078 - acc: 0.8762 - val_loss: 0.3483 - val_acc: 0.8442\n",
      "Epoch 179/200\n",
      "20/20 [==============================] - 0s 3ms/step - loss: 0.3030 - acc: 0.8909 - val_loss: 0.3566 - val_acc: 0.8442\n",
      "Epoch 180/200\n",
      "20/20 [==============================] - 0s 3ms/step - loss: 0.2933 - acc: 0.8811 - val_loss: 0.3542 - val_acc: 0.8506\n",
      "Epoch 181/200\n",
      "20/20 [==============================] - 0s 3ms/step - loss: 0.2897 - acc: 0.8876 - val_loss: 0.3556 - val_acc: 0.8506\n",
      "Epoch 182/200\n",
      "20/20 [==============================] - 0s 3ms/step - loss: 0.2902 - acc: 0.8925 - val_loss: 0.3553 - val_acc: 0.8506\n",
      "Epoch 183/200\n",
      "20/20 [==============================] - 0s 3ms/step - loss: 0.2842 - acc: 0.9007 - val_loss: 0.3497 - val_acc: 0.8571\n",
      "Epoch 184/200\n",
      "20/20 [==============================] - 0s 2ms/step - loss: 0.2971 - acc: 0.8746 - val_loss: 0.3478 - val_acc: 0.8506\n",
      "Epoch 185/200\n",
      "20/20 [==============================] - 0s 3ms/step - loss: 0.3003 - acc: 0.8860 - val_loss: 0.3522 - val_acc: 0.8506\n",
      "Epoch 186/200\n",
      "20/20 [==============================] - 0s 3ms/step - loss: 0.2992 - acc: 0.8958 - val_loss: 0.3529 - val_acc: 0.8506\n",
      "Epoch 187/200\n",
      "20/20 [==============================] - 0s 3ms/step - loss: 0.2992 - acc: 0.8827 - val_loss: 0.3534 - val_acc: 0.8442\n",
      "Epoch 188/200\n",
      "20/20 [==============================] - 0s 3ms/step - loss: 0.2969 - acc: 0.8876 - val_loss: 0.3543 - val_acc: 0.8506\n",
      "Epoch 189/200\n",
      "20/20 [==============================] - 0s 3ms/step - loss: 0.2846 - acc: 0.8876 - val_loss: 0.3517 - val_acc: 0.8442\n",
      "Epoch 190/200\n",
      "20/20 [==============================] - 0s 3ms/step - loss: 0.2830 - acc: 0.8909 - val_loss: 0.3446 - val_acc: 0.8442\n",
      "Epoch 191/200\n",
      "20/20 [==============================] - 0s 4ms/step - loss: 0.2867 - acc: 0.8941 - val_loss: 0.3502 - val_acc: 0.8506\n",
      "Epoch 192/200\n",
      "20/20 [==============================] - 0s 3ms/step - loss: 0.2899 - acc: 0.8974 - val_loss: 0.3515 - val_acc: 0.8506\n",
      "Epoch 193/200\n",
      "20/20 [==============================] - 0s 5ms/step - loss: 0.2911 - acc: 0.8974 - val_loss: 0.3563 - val_acc: 0.8442\n",
      "Epoch 194/200\n",
      "20/20 [==============================] - 0s 3ms/step - loss: 0.2928 - acc: 0.8941 - val_loss: 0.3589 - val_acc: 0.8442\n",
      "Epoch 195/200\n",
      "20/20 [==============================] - 0s 3ms/step - loss: 0.2995 - acc: 0.8860 - val_loss: 0.3576 - val_acc: 0.8506\n",
      "Epoch 196/200\n",
      "20/20 [==============================] - 0s 3ms/step - loss: 0.2856 - acc: 0.8941 - val_loss: 0.3513 - val_acc: 0.8506\n",
      "Epoch 197/200\n",
      "20/20 [==============================] - 0s 3ms/step - loss: 0.2920 - acc: 0.8958 - val_loss: 0.3552 - val_acc: 0.8506\n",
      "Epoch 198/200\n",
      "20/20 [==============================] - 0s 3ms/step - loss: 0.2694 - acc: 0.8974 - val_loss: 0.3587 - val_acc: 0.8506\n",
      "Epoch 199/200\n",
      "20/20 [==============================] - 0s 3ms/step - loss: 0.2732 - acc: 0.8844 - val_loss: 0.3565 - val_acc: 0.8442\n",
      "Epoch 200/200\n",
      "20/20 [==============================] - 0s 3ms/step - loss: 0.2677 - acc: 0.8974 - val_loss: 0.3575 - val_acc: 0.8442\n"
     ]
    }
   ],
   "source": [
    "model_history = model.fit(xTrain, yTrain, batch_size=32, epochs=epochs, validation_data=(xTest, yTest))"
   ]
  },
  {
   "cell_type": "markdown",
   "metadata": {},
   "source": [
    "## Loss, Accuracy Plots"
   ]
  },
  {
   "cell_type": "code",
   "execution_count": 27,
   "metadata": {},
   "outputs": [
    {
     "data": {
      "image/png": "[encoded data removed]",
      "text/plain": [
       "<Figure size 720x432 with 1 Axes>"
      ]
     },
     "metadata": {
      "needs_background": "light"
     },
     "output_type": "display_data"
    },
    {
     "data": {
      "image/png": "[encoded data removed]",
      "text/plain": [
       "<Figure size 720x432 with 1 Axes>"
      ]
     },
     "metadata": {
      "needs_background": "light"
     },
     "output_type": "display_data"
    }
   ],
   "source": [
    "# Plot the loss function\n",
    "fig, ax = plt.subplots(1, 1, figsize=(10,6))\n",
    "ax.plot(model_history.history['loss'], 'r', label='train')\n",
    "ax.plot(model_history.history['val_loss'], 'b' ,label='val')\n",
    "ax.set_xlabel(r'Epoch', fontsize=20)\n",
    "ax.set_ylabel(r'Loss', fontsize=20)\n",
    "ax.legend()\n",
    "ax.tick_params(labelsize=20)\n",
    "\n",
    "# Plot the accuracy\n",
    "fig, ax = plt.subplots(1, 1, figsize=(10,6))\n",
    "ax.plot(model_history.history['acc'], 'r', label='train')\n",
    "ax.plot(model_history.history['val_acc'], 'b' ,label='val')\n",
    "ax.set_xlabel(r'Epoch', fontsize=20)\n",
    "ax.set_ylabel(r'Accuracy', fontsize=20)\n",
    "ax.legend()\n",
    "ax.tick_params(labelsize=20)"
   ]
  },
  {
   "cell_type": "markdown",
   "metadata": {},
   "source": [
    "## Testing on multiple Train-Test Splits"
   ]
  },
  {
   "cell_type": "code",
   "execution_count": 14,
   "metadata": {},
   "outputs": [
    {
     "name": "stdout",
     "output_type": "stream",
     "text": [
      "0.9011948051948052\n",
      "0.02127784851854169\n"
     ]
    }
   ],
   "source": [
    "acc_scores = []\n",
    "for i in range(1000):\n",
    "    xTrain,xTest,yTrain,yTest=tts(X, y, test_size=0.2, random_state=i)\n",
    "    pred = model.predict(xTest)\n",
    "    pred_bn = pred>0.5\n",
    "    acc_scores.append(accuracy_score(pred_bn, yTest))\n",
    "print(np.mean(acc_scores))\n",
    "print(np.std(acc_scores))"
   ]
  },
  {
   "cell_type": "markdown",
   "metadata": {},
   "source": [
    "# Final Accuracy: 90.11%\n",
    "# Final Standard Deviation: 2.12%"
   ]
  },
  {
   "cell_type": "markdown",
   "metadata": {},
   "source": [
    "## Saving the model"
   ]
  },
  {
   "cell_type": "code",
   "execution_count": 15,
   "metadata": {},
   "outputs": [],
   "source": [
    "#model.save('saved_models/20X20_90.11_2.12.h5')"
   ]
  },
  {
   "cell_type": "markdown",
   "metadata": {},
   "source": [
    "## Loading the model"
   ]
  },
  {
   "cell_type": "code",
   "execution_count": 25,
   "metadata": {},
   "outputs": [],
   "source": [
    "imported_model = tf.keras.models.load_model('20X20_90.11_2.12.h5')"
   ]
  },
  {
   "cell_type": "code",
   "execution_count": 26,
   "metadata": {},
   "outputs": [
    {
     "name": "stdout",
     "output_type": "stream",
     "text": [
      "Model: \"sequential\"\n",
      "_________________________________________________________________\n",
      "Layer (type)                 Output Shape              Param #   \n",
      "=================================================================\n",
      "dense (Dense)                (None, 20)                560       \n",
      "_________________________________________________________________\n",
      "dropout (Dropout)            (None, 20)                0         \n",
      "_________________________________________________________________\n",
      "dense_1 (Dense)              (None, 20)                420       \n",
      "_________________________________________________________________\n",
      "dropout_1 (Dropout)          (None, 20)                0         \n",
      "_________________________________________________________________\n",
      "dense_2 (Dense)              (None, 1)                 21        \n",
      "=================================================================\n",
      "Total params: 1,001\n",
      "Trainable params: 1,001\n",
      "Non-trainable params: 0\n",
      "_________________________________________________________________\n"
     ]
    }
   ],
   "source": [
    "imported_model.summary()"
   ]
  },
  {
   "cell_type": "code",
   "execution_count": null,
   "metadata": {},
   "outputs": [],
   "source": []
  }
 ],
 "metadata": {
  "kernelspec": {
   "display_name": "Python 3",
   "language": "python",
   "name": "python3"
  },
  "language_info": {
   "codemirror_mode": {
    "name": "ipython",
    "version": 3
   },
   "file_extension": ".py",
   "mimetype": "text/x-python",
   "name": "python",
   "nbconvert_exporter": "python",
   "pygments_lexer": "ipython3",
   "version": "3.8.6rc1"
  }
 },
 "nbformat": 4,
 "nbformat_minor": 4
}
